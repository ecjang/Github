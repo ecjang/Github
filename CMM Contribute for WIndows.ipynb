{
 "cells": [
  {
   "cell_type": "markdown",
   "metadata": {},
   "source": [
    "# How to contribute - for Windows"
   ]
  },
  {
   "cell_type": "markdown",
   "metadata": {},
   "source": [
    "----"
   ]
  },
  {
   "cell_type": "markdown",
   "metadata": {},
   "source": [
    "## 1. Prerequirsites"
   ]
  },
  {
   "cell_type": "markdown",
   "metadata": {},
   "source": [
    "- Python 3.6 : https://www.python.org/downloads/\n",
    "- PostgreSQL 9.6 : https://www.enterprisedb.com/downloads/postgres-postgresql-downloads\n",
    "- Node 7.6 : https://nodejs.org/en/blog/release/v7.6.0/"
   ]
  },
  {
   "cell_type": "markdown",
   "metadata": {},
   "source": [
    "## 2.Install pip"
   ]
  },
  {
   "cell_type": "markdown",
   "metadata": {},
   "source": [
    "- It's installed automatically when you insall Python. But If not, you need to  install pip."
   ]
  },
  {
   "cell_type": "markdown",
   "metadata": {},
   "source": [
    "1. download \"get-pip.py\" : https://bootstrap.pypa.io/get-pip.py\n",
    "2. install : run cmd, and move download folder, ``python get-pip.py``, and check version ``pip show pip``\n",
    "![pip install](img/pip.png)"
   ]
  },
  {
   "cell_type": "markdown",
   "metadata": {},
   "source": [
    "## 3.Install Requirerments (Backend)"
   ]
  },
  {
   "cell_type": "markdown",
   "metadata": {},
   "source": [
    "- Run in CMD (Command Prompt), move cmm root folder.\n",
    "- run ``pip install -r requirements/dev.txt`` for install librarys.\n",
    "![requirements](img/requirements.png)\n",
    "- run ``pre-commit install --install-hooks''\n",
    "![requirements_commit](img/requirements_commit.png)"
   ]
  },
  {
   "cell_type": "markdown",
   "metadata": {},
   "source": [
    "## 4. Prepare database"
   ]
  },
  {
   "cell_type": "markdown",
   "metadata": {},
   "source": [
    "- Download Install file version 9.6 : https://www.enterprisedb.com/downloads/postgres-postgresql-downloads\n",
    "- Refer to the link for installation : http://moomini.tistory.com/89\n",
    "- Create User & Database \n",
    " 1. run CMD and access Admin: ``psql -U postgres``\n",
    " 2. create user : ``create user cmm;``\n",
    " 3. create bastabase : ``create database cmm owner cmm;``\n",
    " 1. then exit postgre shell ``\\q``\n",
    " ![postgre](img/postgre.png)\n",
    " "
   ]
  },
  {
   "cell_type": "markdown",
   "metadata": {},
   "source": [
    "## 5. Load fixtures"
   ]
  },
  {
   "cell_type": "markdown",
   "metadata": {},
   "source": [
    "- ``cd cmmsite``\n",
    "- ``python manage.py loaddata fixtures/initial_data.json``\n",
    "![fixtres](img/fixtures.png)"
   ]
  },
  {
   "cell_type": "markdown",
   "metadata": {},
   "source": [
    "## 6. Install requirements (frontend) on Windows"
   ]
  },
  {
   "cell_type": "markdown",
   "metadata": {},
   "source": [
    "- download node.js 7.6 and install. https://nodejs.org/en/blog/release/v7.6.0/\n",
    "- move static folder ``cd static`` and ``npm install``\n",
    "![npm_static](img/npm_static.png)\n",
    "- check version ``npm -v`` / ``node -v``\n",
    "![node_version](img/node_version.png)\n",
    "- install yarn, gulp, bower\n",
    "- install yarn, gulp, bower : ``npm install -g yarn gulp-cli bower``\n",
    "![node_yarn](img/node_yarn.png)\n"
   ]
  },
  {
   "cell_type": "markdown",
   "metadata": {},
   "source": []
  },
  {
   "cell_type": "markdown",
   "metadata": {},
   "source": []
  }
 ],
 "metadata": {
  "kernelspec": {
   "display_name": "Python 3",
   "language": "python",
   "name": "python3"
  },
  "language_info": {
   "codemirror_mode": {
    "name": "ipython",
    "version": 3
   },
   "file_extension": ".py",
   "mimetype": "text/x-python",
   "name": "python",
   "nbconvert_exporter": "python",
   "pygments_lexer": "ipython3",
   "version": "3.6.3"
  }
 },
 "nbformat": 4,
 "nbformat_minor": 2
}
